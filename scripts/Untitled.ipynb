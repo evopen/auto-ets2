{
 "cells": [
  {
   "cell_type": "code",
   "execution_count": 1,
   "metadata": {},
   "outputs": [],
   "source": [
    "import sys\n",
    "sys.path.append('..')\n",
    "from models.scnn_pytorch.model import SCNN\n",
    "from models.erfnet.erfnet import ERFNet\n",
    "import torch\n",
    "import os\n",
    "import cv2\n",
    "import numpy as np\n",
    "import time\n",
    "import torchvision\n",
    "import matplotlib.pyplot as plt"
   ]
  },
  {
   "cell_type": "code",
   "execution_count": 4,
   "metadata": {},
   "outputs": [],
   "source": [
    "drive_window_region = np.array([600.0 / 1920, 280.0 / 1080, 1000.0 / 1920, 360.0 / 1080])\n",
    "\n",
    "\n",
    "def GetRectFromRegion(region: np.array, width, height):\n",
    "    x = float(width) * region[0]\n",
    "    y = float(height) * region[1]\n",
    "    region_width = float(width) * region[2]\n",
    "    region_height = float(height) * region[3]\n",
    "    return np.array([x, y, region_width, region_height], dtype=np.int)\n",
    "\n",
    "rect = GetRectFromRegion(drive_window_region, 1920, 1080)"
   ]
  },
  {
   "cell_type": "code",
   "execution_count": 22,
   "metadata": {},
   "outputs": [],
   "source": [
    "MODEL_DIR = '../models/scnn_pytorch'\n",
    "INPUT_SIZE = (800, 288)\n",
    "net = SCNN(input_size=INPUT_SIZE, pretrained=False, test=True)\n",
    "state = torch.load(MODEL_DIR + '/exp10_best.pth')\n",
    "net.load_state_dict(state['net'])\n",
    "net.eval().cuda().half()\n",
    "\n",
    "mean = (0.3598, 0.3653, 0.3662)\n",
    "std = (0.2573, 0.2663, 0.2756)\n",
    "\n",
    "cv2.namedWindow('result')\n",
    "\n",
    "for filename in os.listdir('../images'):\n",
    "    img = cv2.imread('../images/' + filename)\n",
    "    #img = cv2.cvtColor(img, cv2.COLOR_BGR2RGB)\n",
    "\n",
    "    drive_window_img = img[rect[1]:rect[1] + rect[3], rect[0]:rect[0] + rect[2]]\n",
    "    input_blob = drive_window_img.astype(np.float)\n",
    "    input_blob = input_blob / 255.0\n",
    "    input_blob = (input_blob - mean) / std\n",
    "    input_blob = cv2.resize(input_blob, INPUT_SIZE)\n",
    "    input_blob = input_blob.transpose([2, 0, 1])\n",
    "\n",
    "    input_tensor = torch.from_numpy(np.array([input_blob]))\n",
    "    input_tensor = input_tensor.float().cuda().half()\n",
    "\n",
    "    seg, exist = net(input_tensor)\n",
    "    seg_img = seg.cpu().numpy().astype(np.uint8)\n",
    "\n",
    "    seg_img = cv2.cvtColor(seg_img, cv2.COLOR_GRAY2RGB)\n",
    "    seg_img = cv2.resize(seg_img, (1280, 720), interpolation=cv2.INTER_LINEAR)\n",
    "    drive_window_img = cv2.resize(drive_window_img, (1280, 720))\n",
    "    blend = cv2.addWeighted(seg_img * 50, 0.5, drive_window_img, 0.8, 0)\n",
    "\n",
    "    cv2.imshow('result', blend)\n",
    "    if cv2.waitKey(500) == 27:\n",
    "        break\n",
    "cv2.destroyWindow('result')"
   ]
  },
  {
   "cell_type": "code",
   "execution_count": 5,
   "metadata": {},
   "outputs": [],
   "source": [
    "net = ERFNet(5)\n",
    "input_mean = net.input_mean\n",
    "input_std = net.input_std\n",
    "net= torch.nn.DataParallel(net, device_ids=[0]).cuda()\n",
    "checkpoint = torch.load('D:/Dev/Codes-for-Lane-Detection/ERFNet-CULane-PyTorch/trained/ERFNet_trained.tar')"
   ]
  },
  {
   "cell_type": "code",
   "execution_count": 6,
   "metadata": {},
   "outputs": [
    {
     "data": {
      "text/plain": [
       "<All keys matched successfully>"
      ]
     },
     "execution_count": 6,
     "metadata": {},
     "output_type": "execute_result"
    }
   ],
   "source": [
    "net.load_state_dict(checkpoint['state_dict'])\n"
   ]
  },
  {
   "cell_type": "code",
   "execution_count": 8,
   "metadata": {},
   "outputs": [],
   "source": [
    "cv2.namedWindow('result')\n",
    "cv2.moveWindow('result', 200,200)\n",
    "for filename in os.listdir('../images'):\n",
    "    img = cv2.imread('../images/' + filename)\n",
    "\n",
    "    drive_window_img = img[rect[1]:rect[1] + rect[3], rect[0]:rect[0] + rect[2]-200]\n",
    "    input_blob = drive_window_img.astype(np.float)\n",
    "    input_blob = input_blob\n",
    "    input_blob = (input_blob - input_mean) / input_std\n",
    "    input_blob = cv2.resize(input_blob, (976, 208))\n",
    "    input_blob = input_blob.transpose([2, 0, 1])\n",
    "\n",
    "    input_tensor = torch.from_numpy(np.array([input_blob]))\n",
    "    input_tensor = input_tensor.float().cuda()\n",
    "\n",
    "    seg, exist = net(input_tensor)\n",
    "\n",
    "    seg = seg.detach().cpu().numpy()\n",
    "    seg_img = np.argmax(seg[0], axis=0).astype(np.uint8)\n",
    "    \n",
    "\n",
    "    seg_img = cv2.cvtColor(seg_img, cv2.COLOR_GRAY2RGB)\n",
    "    seg_img = cv2.resize(seg_img, (1280, 720), interpolation=cv2.INTER_LINEAR)\n",
    "    drive_window_img = cv2.resize(drive_window_img, (1280, 720))\n",
    "    blend = cv2.addWeighted(seg_img * 50, 0.5, drive_window_img, 0.8, 0)\n",
    "\n",
    "    cv2.imshow('result', blend)\n",
    "    if cv2.waitKey(500) == 27:\n",
    "        break\n",
    "cv2.destroyWindow('result')"
   ]
  },
  {
   "cell_type": "code",
   "execution_count": 31,
   "metadata": {},
   "outputs": [
    {
     "data": {
      "text/plain": [
       "[103.939, 116.779, 123.68]"
      ]
     },
     "execution_count": 31,
     "metadata": {},
     "output_type": "execute_result"
    }
   ],
   "source": [
    "input_mean"
   ]
  },
  {
   "cell_type": "code",
   "execution_count": 4,
   "metadata": {},
   "outputs": [],
   "source": [
    "sys.path.append('../models/PINet')\n",
    "from models.PINet import agent"
   ]
  },
  {
   "cell_type": "code",
   "execution_count": 5,
   "metadata": {},
   "outputs": [],
   "source": [
    "net = agent.Agent()\n",
    "state = torch.load('../models/PINet/savefile/640_tensor(0.2298)_lane_detection_network.pkl')\n",
    "net.lane_detection_network.load_state_dict(state)\n",
    "net.cuda()\n",
    "net.evaluate_mode()"
   ]
  },
  {
   "cell_type": "code",
   "execution_count": 55,
   "metadata": {},
   "outputs": [],
   "source": [
    "test_image = cv2.imread(\"../images/1591496736089.png\")\n",
    "test_image = cv2.resize(test_image, (512,256))/255.0\n",
    "input_blob = test_image.transpose([2, 0, 1])\n",
    "input_blob = np.array([input_blob])\n",
    "\n",
    "confidences, offsets, instances = net.predict_lanes_test(input_blob)[-1]"
   ]
  },
  {
   "cell_type": "code",
   "execution_count": 56,
   "metadata": {},
   "outputs": [
    {
     "data": {
      "text/plain": [
       "<matplotlib.image.AxesImage at 0x2dc68933f40>"
      ]
     },
     "execution_count": 56,
     "metadata": {},
     "output_type": "execute_result"
    },
    {
     "data": {
      "image/png": "[encoded data removed]",
      "text/plain": [
       "<Figure size 432x288 with 1 Axes>"
      ]
     },
     "metadata": {
      "needs_background": "light"
     },
     "output_type": "display_data"
    }
   ],
   "source": [
    "confidences = (confidences[0][0].detach().cpu().numpy())*50\n",
    "confidences = confidences.astype(np.uint8)\n",
    "plt.imshow(confidences)"
   ]
  },
  {
   "cell_type": "code",
   "execution_count": 49,
   "metadata": {},
   "outputs": [],
   "source": [
    "cv2.namedWindow('result')\n",
    "cv2.moveWindow('result', 200,200)\n",
    "for filename in os.listdir('../images'):\n",
    "    img = cv2.imread('../images/' + filename)\n",
    "\n",
    "    drive_window_img = img[rect[1]:rect[1] + rect[3], rect[0]:rect[0] + rect[2]-200]\n",
    "    input_blob = drive_window_img.astype(np.float)\n",
    "    input_blob = cv2.resize(input_blob, (512,256)) / 255.0\n",
    "    input_blob = input_blob.transpose([2, 0, 1])\n",
    "\n",
    "    input_tensor = np.array([input_blob])\n",
    "\n",
    "    confidences, offsets, instances = net.predict_lanes_test(input_tensor)[-1]\n",
    "\n",
    "    confidences = (confidences[0][0].detach().cpu().numpy())*50\n",
    "    confidences = confidences.astype(np.uint8)\n",
    "#     seg_img = np.argmax(seg[0], axis=0).astype(np.uint8)\n",
    "    \n",
    "\n",
    "    confidences = cv2.cvtColor(confidences, cv2.COLOR_GRAY2RGB)\n",
    "    seg_img = cv2.resize(confidences, (1280, 720), interpolation=cv2.INTER_NEAREST)\n",
    "    drive_window_img = cv2.resize(drive_window_img, (1280, 720))\n",
    "    blend = cv2.addWeighted(seg_img * 50, 0.5, drive_window_img, 0.8, 0)\n",
    "\n",
    "    cv2.imshow('result', blend)\n",
    "    if cv2.waitKey(500) == 27:\n",
    "        break\n",
    "cv2.destroyWindow('result')"
   ]
  },
  {
   "cell_type": "code",
   "execution_count": null,
   "metadata": {},
   "outputs": [],
   "source": []
  }
 ],
 "metadata": {
  "kernelspec": {
   "display_name": "Python 3",
   "language": "python",
   "name": "python3"
  },
  "language_info": {
   "codemirror_mode": {
    "name": "ipython",
    "version": 3
   },
   "file_extension": ".py",
   "mimetype": "text/x-python",
   "name": "python",
   "nbconvert_exporter": "python",
   "pygments_lexer": "ipython3",
   "version": "3.8.3"
  }
 },
 "nbformat": 4,
 "nbformat_minor": 4
}
